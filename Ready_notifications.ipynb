{
 "cells": [
  {
   "cell_type": "markdown",
   "metadata": {},
   "source": [
    "# Push notifications on Python"
   ]
  },
  {
   "cell_type": "markdown",
   "metadata": {},
   "source": [
    "The part I really don't like about training machine learning algorithms is the wait... Let's face it, it's like watching paint dry, and there are many things we can spend some time on while those slow scripts take their time. In my case, I enjoy going out for a run, catching up on my reading, and even working on other projects.\n",
    "\n",
    "On this post, you'll find a collection of a few simple tricks I use so I don't have to  keep on checking if a model or script are still running. My favorite is the mobile push notification, but choose the one that fits your needs the best:\n",
    "\n",
    "* **Slack:** Send a notification (and the file) to Slack\n",
    "* **Mobile:** Send a Push notification to an app in your mobile phone\n",
    "* **email:** Send yourself an email (I don't know why would you ise this one having the previous two, but here it is)"
   ]
  },
  {
   "cell_type": "markdown",
   "metadata": {},
   "source": [
    "## Slack!\n",
    "\n",
    "**Send a notification (and the file if you want to) to Slack.**"
   ]
  },
  {
   "cell_type": "markdown",
   "metadata": {},
   "source": []
  },
  {
   "cell_type": "code",
   "execution_count": null,
   "metadata": {},
   "outputs": [],
   "source": []
  },
  {
   "cell_type": "markdown",
   "metadata": {},
   "source": [
    "## Mobile Push notifications\n",
    "**Send a push notification to your iPhone or Android**"
   ]
  },
  {
   "cell_type": "markdown",
   "metadata": {},
   "source": [
    "The application I'm using for this is Pushbullet, and works great for other uses, you might want to check it out.\n",
    "\n",
    "1. The first thing is to get the app and sign-up, you can do this at: https://www.pushbullet.com/\n",
    "2. Get your token at https://www.pushbullet.com/#settings\n",
    "3. Download the app on your phone and logon\n",
    "4. Run the code below in your Python notebook **(replacing your own token, of course)**. \n",
    "\n",
    "\n",
    "For more information, visit: https://docs.pushbullet.com/#create-push\n",
    "\n",
    "Original idea found on https://simply-python.com/2015/03/23/sending-alerts-to-iphone-or-android-phone-using-python/"
   ]
  },
  {
   "cell_type": "code",
   "execution_count": 11,
   "metadata": {
    "ExecuteTime": {
     "end_time": "2018-07-12T13:04:34.095956Z",
     "start_time": "2018-07-12T13:04:34.088976Z"
    }
   },
   "outputs": [],
   "source": [
    "import requests\n",
    "import json\n",
    "def pushbullet_message(title, body):\n",
    "    msg = {\"type\": \"note\", \"title\": title, \"body\": body}\n",
    "    TOKEN = 'o.25k8rIHwMR4UCYAnFWk6eWOZBQ3K9X0R'\n",
    "    resp = requests.post('https://api.pushbullet.com/v2/pushes', data=json.dumps(msg),\n",
    "                         headers={'Authorization': 'Bearer ' + TOKEN, 'Content-Type': 'application/json'})\n",
    "    if resp.status_code != 200:\n",
    "        raise Exception('Error',resp.status_code)\n",
    "    else:\n",
    "        print ('Message sent')"
   ]
  },
  {
   "cell_type": "code",
   "execution_count": 12,
   "metadata": {
    "ExecuteTime": {
     "end_time": "2018-07-12T13:04:56.061098Z",
     "start_time": "2018-07-12T13:04:55.436763Z"
    }
   },
   "outputs": [
    {
     "name": "stdout",
     "output_type": "stream",
     "text": [
      "Message sent\n"
     ]
    }
   ],
   "source": [
    "pushbullet_message('Test','This is a test message')"
   ]
  }
 ],
 "metadata": {
  "kernelspec": {
   "display_name": "Python 3",
   "language": "python",
   "name": "python3"
  },
  "language_info": {
   "codemirror_mode": {
    "name": "ipython",
    "version": 3
   },
   "file_extension": ".py",
   "mimetype": "text/x-python",
   "name": "python",
   "nbconvert_exporter": "python",
   "pygments_lexer": "ipython3",
   "version": "3.6.5"
  },
  "toc": {
   "base_numbering": 1,
   "nav_menu": {},
   "number_sections": true,
   "sideBar": true,
   "skip_h1_title": false,
   "title_cell": "Table of Contents",
   "title_sidebar": "Contents",
   "toc_cell": false,
   "toc_position": {},
   "toc_section_display": true,
   "toc_window_display": false
  },
  "varInspector": {
   "cols": {
    "lenName": 16,
    "lenType": 16,
    "lenVar": 40
   },
   "kernels_config": {
    "python": {
     "delete_cmd_postfix": "",
     "delete_cmd_prefix": "del ",
     "library": "var_list.py",
     "varRefreshCmd": "print(var_dic_list())"
    },
    "r": {
     "delete_cmd_postfix": ") ",
     "delete_cmd_prefix": "rm(",
     "library": "var_list.r",
     "varRefreshCmd": "cat(var_dic_list()) "
    }
   },
   "types_to_exclude": [
    "module",
    "function",
    "builtin_function_or_method",
    "instance",
    "_Feature"
   ],
   "window_display": false
  }
 },
 "nbformat": 4,
 "nbformat_minor": 2
}
